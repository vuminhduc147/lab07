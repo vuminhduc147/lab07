{
 "cells": [
  {
   "cell_type": "code",
   "execution_count": 1,
   "metadata": {},
   "outputs": [
    {
     "name": "stdout",
     "output_type": "stream",
     "text": [
      "http://192.168.20.118:4040\n"
     ]
    }
   ],
   "source": [
    "import sys, glob, os\n",
    "SPARK_HOME=os.environ['SPARK_HOME']\n",
    "sys.path.append(SPARK_HOME + \"/python\")\n",
    "sys.path.append(glob.glob(SPARK_HOME + \"/python/lib/py4j*.zip\")[0])\n",
    "\n",
    "\n",
    "from pyspark import SparkConf\n",
    "from pyspark.sql import SparkSession\n",
    "\n",
    "from pyspark.sql.functions import *\n",
    "from pyspark.sql.window import Window, WindowSpec\n",
    "\n",
    "\n",
    "conf = (SparkConf()\n",
    "        .setAppName(\"PySpark Application\")\n",
    "        .setIfMissing(\"spark.master\", \"local[*]\")\n",
    "        .setIfMissing(\"spark.local.dir\", \"/tmp/spark\")\n",
    "        .setIfMissing(\"spark.driver.memory\", \"5G\")\n",
    "        .setIfMissing(\"spark.driver.cores\", \"4\")\n",
    "        .setIfMissing(\"spark.jars.packages\", \"graphframes:graphframes:0.7.0-spark2.4-s_2.11\")\n",
    "     \n",
    "       )\n",
    "\n",
    "spark = SparkSession.builder.config(conf = conf).enableHiveSupport().getOrCreate()\n",
    "sc = spark.sparkContext\n",
    "print(sc.uiWebUrl)\n",
    "\n",
    "sql = spark.sql"
   ]
  },
  {
   "cell_type": "code",
   "execution_count": 3,
   "metadata": {},
   "outputs": [],
   "source": [
    "from graphframes import GraphFrame"
   ]
  },
  {
   "cell_type": "code",
   "execution_count": 6,
   "metadata": {},
   "outputs": [
    {
     "name": "stdout",
     "output_type": "stream",
     "text": [
      "Veritices\n",
      "+---+------+---------+---+\n",
      "| id|  name|firstname|age|\n",
      "+---+------+---------+---+\n",
      "|  1|Carter|  Derrick| 50|\n",
      "|  2|   May|  Derrick| 26|\n",
      "|  3| Mills|     Jeff| 80|\n",
      "|  4|  Hood|   Robert| 65|\n",
      "|  5| Banks|     Mike| 93|\n",
      "| 98|  Berg|      Tim| 28|\n",
      "| 99|  Page|    Allan| 16|\n",
      "+---+------+---------+---+\n",
      "\n",
      "Edges\n",
      "+---+---+-------+\n",
      "|src|dst|   type|\n",
      "+---+---+-------+\n",
      "|  1|  2| friend|\n",
      "|  2|  1| friend|\n",
      "|  3|  1| friend|\n",
      "|  1|  3| friend|\n",
      "|  2|  3|follows|\n",
      "|  3|  4| friend|\n",
      "|  4|  3| friend|\n",
      "|  5|  3| friend|\n",
      "|  3|  5| friend|\n",
      "|  4|  5|follows|\n",
      "| 98| 99| friend|\n",
      "| 99| 98| friend|\n",
      "+---+---+-------+\n",
      "\n",
      "Degrees\n",
      "+---+------+\n",
      "| id|degree|\n",
      "+---+------+\n",
      "|  3|     7|\n",
      "| 98|     2|\n",
      "| 99|     2|\n",
      "|  5|     3|\n",
      "|  1|     4|\n",
      "|  4|     3|\n",
      "|  2|     3|\n",
      "+---+------+\n",
      "\n"
     ]
    }
   ],
   "source": [
    "vertices = spark.createDataFrame([('1', 'Carter', 'Derrick', 50), \n",
    "                                  ('2', 'May', 'Derrick', 26),\n",
    "                                 ('3', 'Mills', 'Jeff', 80),\n",
    "                                  ('4', 'Hood', 'Robert', 65),\n",
    "                                  ('5', 'Banks', 'Mike', 93),\n",
    "                                 ('98', 'Berg', 'Tim', 28),\n",
    "                                 ('99', 'Page', 'Allan', 16)],\n",
    "                                 ['id', 'name', 'firstname', 'age'])\n",
    "edges = spark.createDataFrame([('1', '2', 'friend'), \n",
    "                               ('2', '1', 'friend'),\n",
    "                              ('3', '1', 'friend'),\n",
    "                              ('1', '3', 'friend'),\n",
    "                               ('2', '3', 'follows'),\n",
    "                               ('3', '4', 'friend'),\n",
    "                               ('4', '3', 'friend'),\n",
    "                               ('5', '3', 'friend'),\n",
    "                               ('3', '5', 'friend'),\n",
    "                               ('4', '5', 'follows'),\n",
    "                              ('98', '99', 'friend'),\n",
    "                              ('99', '98', 'friend')],\n",
    "                              ['src', 'dst', 'type'])\n",
    "g = GraphFrame(vertices, edges)\n",
    "## Take a look at the DataFrames\n",
    "print(\"Veritices\")\n",
    "g.vertices.show()\n",
    "print(\"Edges\")\n",
    "g.edges.show()\n",
    "print(\"Degrees\")\n",
    "g.degrees.show()"
   ]
  },
  {
   "cell_type": "code",
   "execution_count": 35,
   "metadata": {},
   "outputs": [
    {
     "data": {
      "text/plain": [
       "['1', '2', '3', '4', '5', '98', '99']"
      ]
     },
     "execution_count": 35,
     "metadata": {},
     "output_type": "execute_result"
    }
   ],
   "source": [
    "nodes = list(map(lambda r: r.id, g.vertices.select(\"id\").collect()))\n",
    "nodes"
   ]
  },
  {
   "cell_type": "code",
   "execution_count": 40,
   "metadata": {},
   "outputs": [
    {
     "data": {
      "text/plain": [
       "[('1', '2'),\n",
       " ('2', '1'),\n",
       " ('3', '1'),\n",
       " ('1', '3'),\n",
       " ('2', '3'),\n",
       " ('3', '4'),\n",
       " ('4', '3'),\n",
       " ('5', '3'),\n",
       " ('3', '5'),\n",
       " ('4', '5'),\n",
       " ('98', '99'),\n",
       " ('99', '98')]"
      ]
     },
     "execution_count": 40,
     "metadata": {},
     "output_type": "execute_result"
    }
   ],
   "source": [
    "edges = [(r.src, r.dst) for r in g.edges.select(\"src\", \"dst\").collect()]\n",
    "edges"
   ]
  },
  {
   "cell_type": "markdown",
   "metadata": {},
   "source": [
    "# Drawing graph using networkx"
   ]
  },
  {
   "cell_type": "code",
   "execution_count": 52,
   "metadata": {},
   "outputs": [
    {
     "data": {
      "image/png": "[encoded data removed]",
      "text/plain": [
       "<Figure size 432x288 with 1 Axes>"
      ]
     },
     "metadata": {},
     "output_type": "display_data"
    }
   ],
   "source": [
    "import networkx as nx\n",
    "G = nx.Graph()\n",
    "G.add_nodes_from(nodes)\n",
    "G.add_edges_from(edges)\n",
    "\n",
    "options = {\n",
    "    'node_color': 'steelblue',\n",
    "    \"font_color\": \"white\",\n",
    "    'node_size': 1000,\n",
    "    'width': 3,\n",
    "    'font_weight': 'bold'\n",
    "}\n",
    "\n",
    "nx.draw_shell(G, with_labels=True, **options)"
   ]
  },
  {
   "cell_type": "code",
   "execution_count": 8,
   "metadata": {},
   "outputs": [
    {
     "name": "stdout",
     "output_type": "stream",
     "text": [
      "+---+---+-------+\n",
      "|src|dst|   type|\n",
      "+---+---+-------+\n",
      "|  1|  2| friend|\n",
      "|  1|  3| friend|\n",
      "|  2|  3|follows|\n",
      "|  3|  4| friend|\n",
      "|  3|  5| friend|\n",
      "|  4|  5|follows|\n",
      "| 98| 99| friend|\n",
      "+---+---+-------+\n",
      "\n"
     ]
    }
   ],
   "source": [
    "edges.where(\"src<dst\").show()"
   ]
  },
  {
   "cell_type": "code",
   "execution_count": 10,
   "metadata": {},
   "outputs": [
    {
     "name": "stdout",
     "output_type": "stream",
     "text": [
      "+---+---+------+\n",
      "|src|dst|  type|\n",
      "+---+---+------+\n",
      "|  1|  2|friend|\n",
      "|  2|  1|friend|\n",
      "|  3|  1|friend|\n",
      "|  1|  3|friend|\n",
      "|  3|  4|friend|\n",
      "|  4|  3|friend|\n",
      "|  5|  3|friend|\n",
      "|  3|  5|friend|\n",
      "| 98| 99|friend|\n",
      "| 99| 98|friend|\n",
      "+---+---+------+\n",
      "\n"
     ]
    }
   ],
   "source": [
    "g.edges.filter('type == \"friend\"').show()"
   ]
  },
  {
   "cell_type": "code",
   "execution_count": 12,
   "metadata": {},
   "outputs": [],
   "source": [
    "sc.setCheckpointDir(\"/tmp/spark-checkpoint\")"
   ]
  },
  {
   "cell_type": "code",
   "execution_count": 13,
   "metadata": {},
   "outputs": [
    {
     "name": "stdout",
     "output_type": "stream",
     "text": [
      "+---+------+---------+---+------------+\n",
      "| id|  name|firstname|age|   component|\n",
      "+---+------+---------+---+------------+\n",
      "|  1|Carter|  Derrick| 50|154618822656|\n",
      "|  2|   May|  Derrick| 26|154618822656|\n",
      "|  3| Mills|     Jeff| 80|154618822656|\n",
      "|  4|  Hood|   Robert| 65|154618822656|\n",
      "|  5| Banks|     Mike| 93|154618822656|\n",
      "| 98|  Berg|      Tim| 28|317827579904|\n",
      "| 99|  Page|    Allan| 16|317827579904|\n",
      "+---+------+---------+---+------------+\n",
      "\n"
     ]
    }
   ],
   "source": [
    "g.connectedComponents().show()"
   ]
  },
  {
   "cell_type": "markdown",
   "metadata": {},
   "source": [
    "# Motif finding\n",
    "\n",
    "Finding motifs helps to execute queries to discover structural patterns in graphs. Network motifs are patterns that occur repeatedly in the graph and represent the relationships between the vertices. GraphFrames motif finding uses a declarative Domain Specific Language (DSL) for expressing structural queries.\n",
    "The query can be invoked by using the find-function, where the motif (in quotation marks) is expressed as the first parameter of the function.\n",
    "The following example will search for pairs of vertices a,b connected by edge e and pairs of vertices b,c connected by edge e2. It will return a DataFrame of all such structures in the graph, with columns for each of the named elements (vertices or edges) in the motif."
   ]
  },
  {
   "cell_type": "code",
   "execution_count": 15,
   "metadata": {},
   "outputs": [
    {
     "name": "stdout",
     "output_type": "stream",
     "text": [
      "+--------------------+----------------+--------------------+----------------+--------------------+\n",
      "|                   a|               e|                   b|              e2|                   c|\n",
      "+--------------------+----------------+--------------------+----------------+--------------------+\n",
      "|[3, Mills, Jeff, 80]|  [3, 5, friend]|[5, Banks, Mike, 93]|  [5, 3, friend]|[3, Mills, Jeff, 80]|\n",
      "|[4, Hood, Robert,...| [4, 5, follows]|[5, Banks, Mike, 93]|  [5, 3, friend]|[3, Mills, Jeff, 80]|\n",
      "|[3, Mills, Jeff, 80]|  [3, 1, friend]|[1, Carter, Derri...|  [1, 3, friend]|[3, Mills, Jeff, 80]|\n",
      "|[2, May, Derrick,...|  [2, 1, friend]|[1, Carter, Derri...|  [1, 3, friend]|[3, Mills, Jeff, 80]|\n",
      "|[3, Mills, Jeff, 80]|  [3, 4, friend]|[4, Hood, Robert,...|  [4, 3, friend]|[3, Mills, Jeff, 80]|\n",
      "|[1, Carter, Derri...|  [1, 2, friend]|[2, May, Derrick,...| [2, 3, follows]|[3, Mills, Jeff, 80]|\n",
      "| [98, Berg, Tim, 28]|[98, 99, friend]|[99, Page, Allan,...|[99, 98, friend]| [98, Berg, Tim, 28]|\n",
      "|[99, Page, Allan,...|[99, 98, friend]| [98, Berg, Tim, 28]|[98, 99, friend]|[99, Page, Allan,...|\n",
      "|[5, Banks, Mike, 93]|  [5, 3, friend]|[3, Mills, Jeff, 80]|  [3, 5, friend]|[5, Banks, Mike, 93]|\n",
      "|[1, Carter, Derri...|  [1, 3, friend]|[3, Mills, Jeff, 80]|  [3, 5, friend]|[5, Banks, Mike, 93]|\n",
      "|[4, Hood, Robert,...|  [4, 3, friend]|[3, Mills, Jeff, 80]|  [3, 5, friend]|[5, Banks, Mike, 93]|\n",
      "|[2, May, Derrick,...| [2, 3, follows]|[3, Mills, Jeff, 80]|  [3, 5, friend]|[5, Banks, Mike, 93]|\n",
      "|[3, Mills, Jeff, 80]|  [3, 4, friend]|[4, Hood, Robert,...| [4, 5, follows]|[5, Banks, Mike, 93]|\n",
      "|[5, Banks, Mike, 93]|  [5, 3, friend]|[3, Mills, Jeff, 80]|  [3, 1, friend]|[1, Carter, Derri...|\n",
      "|[1, Carter, Derri...|  [1, 3, friend]|[3, Mills, Jeff, 80]|  [3, 1, friend]|[1, Carter, Derri...|\n",
      "|[4, Hood, Robert,...|  [4, 3, friend]|[3, Mills, Jeff, 80]|  [3, 1, friend]|[1, Carter, Derri...|\n",
      "|[2, May, Derrick,...| [2, 3, follows]|[3, Mills, Jeff, 80]|  [3, 1, friend]|[1, Carter, Derri...|\n",
      "|[1, Carter, Derri...|  [1, 2, friend]|[2, May, Derrick,...|  [2, 1, friend]|[1, Carter, Derri...|\n",
      "|[5, Banks, Mike, 93]|  [5, 3, friend]|[3, Mills, Jeff, 80]|  [3, 4, friend]|[4, Hood, Robert,...|\n",
      "|[1, Carter, Derri...|  [1, 3, friend]|[3, Mills, Jeff, 80]|  [3, 4, friend]|[4, Hood, Robert,...|\n",
      "+--------------------+----------------+--------------------+----------------+--------------------+\n",
      "only showing top 20 rows\n",
      "\n"
     ]
    }
   ],
   "source": [
    "g.find(\"(a)-[e]->(b); (b)-[e2]->(c)\").show()"
   ]
  },
  {
   "cell_type": "code",
   "execution_count": 21,
   "metadata": {},
   "outputs": [
    {
     "name": "stdout",
     "output_type": "stream",
     "text": [
      "+------------------------+------------------------+------------------------+\n",
      "|a                       |b                       |c                       |\n",
      "+------------------------+------------------------+------------------------+\n",
      "|[4, Hood, Robert, 65]   |[3, Mills, Jeff, 80]    |[4, Hood, Robert, 65]   |\n",
      "|[3, Mills, Jeff, 80]    |[1, Carter, Derrick, 50]|[2, May, Derrick, 26]   |\n",
      "|[5, Banks, Mike, 93]    |[3, Mills, Jeff, 80]    |[1, Carter, Derrick, 50]|\n",
      "|[4, Hood, Robert, 65]   |[3, Mills, Jeff, 80]    |[1, Carter, Derrick, 50]|\n",
      "|[3, Mills, Jeff, 80]    |[1, Carter, Derrick, 50]|[3, Mills, Jeff, 80]    |\n",
      "|[5, Banks, Mike, 93]    |[3, Mills, Jeff, 80]    |[5, Banks, Mike, 93]    |\n",
      "|[5, Banks, Mike, 93]    |[3, Mills, Jeff, 80]    |[4, Hood, Robert, 65]   |\n",
      "|[1, Carter, Derrick, 50]|[2, May, Derrick, 26]   |[1, Carter, Derrick, 50]|\n",
      "|[1, Carter, Derrick, 50]|[3, Mills, Jeff, 80]    |[4, Hood, Robert, 65]   |\n",
      "|[2, May, Derrick, 26]   |[1, Carter, Derrick, 50]|[3, Mills, Jeff, 80]    |\n",
      "|[1, Carter, Derrick, 50]|[3, Mills, Jeff, 80]    |[5, Banks, Mike, 93]    |\n",
      "|[1, Carter, Derrick, 50]|[3, Mills, Jeff, 80]    |[1, Carter, Derrick, 50]|\n",
      "|[99, Page, Allan, 16]   |[98, Berg, Tim, 28]     |[99, Page, Allan, 16]   |\n",
      "|[98, Berg, Tim, 28]     |[99, Page, Allan, 16]   |[98, Berg, Tim, 28]     |\n",
      "|[3, Mills, Jeff, 80]    |[5, Banks, Mike, 93]    |[3, Mills, Jeff, 80]    |\n",
      "|[4, Hood, Robert, 65]   |[3, Mills, Jeff, 80]    |[5, Banks, Mike, 93]    |\n",
      "|[2, May, Derrick, 26]   |[1, Carter, Derrick, 50]|[2, May, Derrick, 26]   |\n",
      "|[3, Mills, Jeff, 80]    |[4, Hood, Robert, 65]   |[3, Mills, Jeff, 80]    |\n",
      "+------------------------+------------------------+------------------------+\n",
      "\n"
     ]
    }
   ],
   "source": [
    "mutualFriends = (g\n",
    "                 .find(\"(a)-[]->(b); (b)-[]->(c); (c)-[]->(b); (b)-[]->(a)\")\n",
    "                 .dropDuplicates()\n",
    "                )\n",
    "\n",
    "mutualFriends.show(100, False)"
   ]
  },
  {
   "cell_type": "code",
   "execution_count": 23,
   "metadata": {},
   "outputs": [
    {
     "name": "stdout",
     "output_type": "stream",
     "text": [
      "root\n",
      " |-- a: struct (nullable = false)\n",
      " |    |-- id: string (nullable = true)\n",
      " |    |-- name: string (nullable = true)\n",
      " |    |-- firstname: string (nullable = true)\n",
      " |    |-- age: long (nullable = true)\n",
      " |-- b: struct (nullable = false)\n",
      " |    |-- id: string (nullable = true)\n",
      " |    |-- name: string (nullable = true)\n",
      " |    |-- firstname: string (nullable = true)\n",
      " |    |-- age: long (nullable = true)\n",
      " |-- c: struct (nullable = false)\n",
      " |    |-- id: string (nullable = true)\n",
      " |    |-- name: string (nullable = true)\n",
      " |    |-- firstname: string (nullable = true)\n",
      " |    |-- age: long (nullable = true)\n",
      "\n"
     ]
    }
   ],
   "source": [
    "mutualFriends.printSchema()"
   ]
  },
  {
   "cell_type": "markdown",
   "metadata": {},
   "source": [
    "To query all the mutual friends between 2 and 3 we can filter the DataFrame."
   ]
  },
  {
   "cell_type": "code",
   "execution_count": 25,
   "metadata": {},
   "outputs": [
    {
     "name": "stdout",
     "output_type": "stream",
     "text": [
      "+---------------------+------------------------+--------------------+\n",
      "|a                    |b                       |c                   |\n",
      "+---------------------+------------------------+--------------------+\n",
      "|[2, May, Derrick, 26]|[1, Carter, Derrick, 50]|[3, Mills, Jeff, 80]|\n",
      "+---------------------+------------------------+--------------------+\n",
      "\n"
     ]
    }
   ],
   "source": [
    "mutualFriends.filter('a.id == 2 and c.id == 3').show(10, False)"
   ]
  },
  {
   "cell_type": "markdown",
   "metadata": {},
   "source": [
    "# Triangle Count"
   ]
  },
  {
   "cell_type": "code",
   "execution_count": 26,
   "metadata": {},
   "outputs": [
    {
     "name": "stdout",
     "output_type": "stream",
     "text": [
      "+-----+---+------+---------+---+\n",
      "|count| id|  name|firstname|age|\n",
      "+-----+---+------+---------+---+\n",
      "|    2|  3| Mills|     Jeff| 80|\n",
      "|    0| 98|  Berg|      Tim| 28|\n",
      "|    0| 99|  Page|    Allan| 16|\n",
      "|    1|  5| Banks|     Mike| 93|\n",
      "|    1|  1|Carter|  Derrick| 50|\n",
      "|    1|  4|  Hood|   Robert| 65|\n",
      "|    1|  2|   May|  Derrick| 26|\n",
      "+-----+---+------+---------+---+\n",
      "\n"
     ]
    }
   ],
   "source": [
    "g.triangleCount().show()"
   ]
  },
  {
   "cell_type": "markdown",
   "metadata": {},
   "source": [
    "# Page Rank"
   ]
  },
  {
   "cell_type": "code",
   "execution_count": 53,
   "metadata": {},
   "outputs": [
    {
     "name": "stdout",
     "output_type": "stream",
     "text": [
      "+---+------+---------+---+------------------+\n",
      "| id|  name|firstname|age|          pagerank|\n",
      "+---+------+---------+---+------------------+\n",
      "|  1|Carter|  Derrick| 50|0.9055074972891308|\n",
      "|  3| Mills|     Jeff| 80| 1.853919642738813|\n",
      "|  2|   May|  Derrick| 26|0.5377967999474921|\n",
      "|  4|  Hood|   Robert| 65|0.6873519241384106|\n",
      "| 98|  Berg|      Tim| 28|1.0225331112091938|\n",
      "|  5| Banks|     Mike| 93|0.9703579134677663|\n",
      "| 99|  Page|    Allan| 16|1.0225331112091938|\n",
      "+---+------+---------+---+------------------+\n",
      "\n",
      "+---+---+-------+------------------+\n",
      "|src|dst|   type|            weight|\n",
      "+---+---+-------+------------------+\n",
      "|  1|  2| friend|               0.5|\n",
      "| 99| 98| friend|               1.0|\n",
      "|  1|  3| friend|               0.5|\n",
      "|  4|  5|follows|               0.5|\n",
      "|  5|  3| friend|               1.0|\n",
      "| 98| 99| friend|               1.0|\n",
      "|  3|  5| friend|0.3333333333333333|\n",
      "|  4|  3| friend|               0.5|\n",
      "|  2|  1| friend|               0.5|\n",
      "|  3|  4| friend|0.3333333333333333|\n",
      "|  3|  1| friend|0.3333333333333333|\n",
      "|  2|  3|follows|               0.5|\n",
      "+---+---+-------+------------------+\n",
      "\n"
     ]
    }
   ],
   "source": [
    "pr = g.pageRank(resetProbability=0.15, tol=0.01)\n",
    "## look at the pagerank score for every vertex\n",
    "pr.vertices.show()\n",
    "## look at the weight of every edge\n",
    "pr.edges.show()"
   ]
  },
  {
   "cell_type": "markdown",
   "metadata": {},
   "source": [
    "# Shortest Path"
   ]
  },
  {
   "cell_type": "code",
   "execution_count": 56,
   "metadata": {},
   "outputs": [
    {
     "name": "stdout",
     "output_type": "stream",
     "text": [
      "+---+------+---------+---+----------------+\n",
      "| id|  name|firstname|age|       distances|\n",
      "+---+------+---------+---+----------------+\n",
      "|  1|Carter|  Derrick| 50|[1 -> 0, 5 -> 2]|\n",
      "|  3| Mills|     Jeff| 80|[5 -> 1, 1 -> 1]|\n",
      "|  2|   May|  Derrick| 26|[1 -> 1, 5 -> 2]|\n",
      "|  4|  Hood|   Robert| 65|[5 -> 1, 1 -> 2]|\n",
      "| 98|  Berg|      Tim| 28|              []|\n",
      "|  5| Banks|     Mike| 93|[5 -> 0, 1 -> 2]|\n",
      "| 99|  Page|    Allan| 16|              []|\n",
      "+---+------+---------+---+----------------+\n",
      "\n"
     ]
    }
   ],
   "source": [
    "g.shortestPaths(landmarks=[\"1\", \"5\"]).show()"
   ]
  },
  {
   "cell_type": "code",
   "execution_count": null,
   "metadata": {},
   "outputs": [],
   "source": []
  }
 ],
 "metadata": {
  "kernelspec": {
   "display_name": "Python 3",
   "language": "python",
   "name": "python3"
  },
  "language_info": {
   "codemirror_mode": {
    "name": "ipython",
    "version": 3
   },
   "file_extension": ".py",
   "mimetype": "text/x-python",
   "name": "python",
   "nbconvert_exporter": "python",
   "pygments_lexer": "ipython3",
   "version": "3.7.4"
  }
 },
 "nbformat": 4,
 "nbformat_minor": 2
}
